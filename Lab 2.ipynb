{
 "cells": [
  {
   "cell_type": "code",
   "execution_count": 4,
   "id": "bb2906c6",
   "metadata": {},
   "outputs": [],
   "source": [
    "import geopandas as gpd\n"
   ]
  },
  {
   "cell_type": "code",
   "execution_count": 5,
   "id": "5ff84b7e",
   "metadata": {},
   "outputs": [],
   "source": [
    "accident = gpd.read_file(\"C:/Geoviz/data/crash_data_collision_crash_2007_2017.shp\")"
   ]
  },
  {
   "cell_type": "code",
   "execution_count": 7,
   "id": "7a122caa",
   "metadata": {
    "collapsed": true
   },
   "outputs": [
    {
     "data": {
      "text/html": [
       "<div>\n",
       "<style scoped>\n",
       "    .dataframe tbody tr th:only-of-type {\n",
       "        vertical-align: middle;\n",
       "    }\n",
       "\n",
       "    .dataframe tbody tr th {\n",
       "        vertical-align: top;\n",
       "    }\n",
       "\n",
       "    .dataframe thead th {\n",
       "        text-align: right;\n",
       "    }\n",
       "</style>\n",
       "<table border=\"1\" class=\"dataframe\">\n",
       "  <thead>\n",
       "    <tr style=\"text-align: right;\">\n",
       "      <th></th>\n",
       "      <th>county_nam</th>\n",
       "      <th>objectid_1</th>\n",
       "      <th>objectid</th>\n",
       "      <th>crn</th>\n",
       "      <th>district</th>\n",
       "      <th>county</th>\n",
       "      <th>municipali</th>\n",
       "      <th>crash_year</th>\n",
       "      <th>crash_mont</th>\n",
       "      <th>day_of_wee</th>\n",
       "      <th>...</th>\n",
       "      <th>ped_count</th>\n",
       "      <th>ped_death_</th>\n",
       "      <th>ped_maj_in</th>\n",
       "      <th>max_severi</th>\n",
       "      <th>comm_veh_c</th>\n",
       "      <th>dec_lat</th>\n",
       "      <th>dec_long</th>\n",
       "      <th>rdwy_surf_</th>\n",
       "      <th>wz_law_off</th>\n",
       "      <th>geometry</th>\n",
       "    </tr>\n",
       "  </thead>\n",
       "  <tbody>\n",
       "    <tr>\n",
       "      <th>0</th>\n",
       "      <td>None</td>\n",
       "      <td>9498</td>\n",
       "      <td>128198</td>\n",
       "      <td>2016019772</td>\n",
       "      <td>6</td>\n",
       "      <td>67</td>\n",
       "      <td>67301</td>\n",
       "      <td>2016</td>\n",
       "      <td>2</td>\n",
       "      <td>2</td>\n",
       "      <td>...</td>\n",
       "      <td>1</td>\n",
       "      <td>0</td>\n",
       "      <td>0</td>\n",
       "      <td>3</td>\n",
       "      <td>0</td>\n",
       "      <td>40.0628</td>\n",
       "      <td>-75.0577</td>\n",
       "      <td>None</td>\n",
       "      <td>None</td>\n",
       "      <td>POINT (-75.05770 40.06280)</td>\n",
       "    </tr>\n",
       "    <tr>\n",
       "      <th>1</th>\n",
       "      <td>None</td>\n",
       "      <td>9570</td>\n",
       "      <td>128432</td>\n",
       "      <td>2016013724</td>\n",
       "      <td>6</td>\n",
       "      <td>67</td>\n",
       "      <td>67301</td>\n",
       "      <td>2016</td>\n",
       "      <td>1</td>\n",
       "      <td>3</td>\n",
       "      <td>...</td>\n",
       "      <td>0</td>\n",
       "      <td>0</td>\n",
       "      <td>0</td>\n",
       "      <td>3</td>\n",
       "      <td>0</td>\n",
       "      <td>40.0822</td>\n",
       "      <td>-74.9669</td>\n",
       "      <td>None</td>\n",
       "      <td>None</td>\n",
       "      <td>POINT (-74.96690 40.08220)</td>\n",
       "    </tr>\n",
       "    <tr>\n",
       "      <th>2</th>\n",
       "      <td>None</td>\n",
       "      <td>9642</td>\n",
       "      <td>128688</td>\n",
       "      <td>2016038282</td>\n",
       "      <td>6</td>\n",
       "      <td>67</td>\n",
       "      <td>67301</td>\n",
       "      <td>2016</td>\n",
       "      <td>3</td>\n",
       "      <td>5</td>\n",
       "      <td>...</td>\n",
       "      <td>0</td>\n",
       "      <td>0</td>\n",
       "      <td>0</td>\n",
       "      <td>0</td>\n",
       "      <td>1</td>\n",
       "      <td>39.9751</td>\n",
       "      <td>-75.1946</td>\n",
       "      <td>None</td>\n",
       "      <td>None</td>\n",
       "      <td>POINT (-75.19460 39.97510)</td>\n",
       "    </tr>\n",
       "    <tr>\n",
       "      <th>3</th>\n",
       "      <td>None</td>\n",
       "      <td>9714</td>\n",
       "      <td>128842</td>\n",
       "      <td>2016052220</td>\n",
       "      <td>6</td>\n",
       "      <td>67</td>\n",
       "      <td>67301</td>\n",
       "      <td>2016</td>\n",
       "      <td>2</td>\n",
       "      <td>5</td>\n",
       "      <td>...</td>\n",
       "      <td>0</td>\n",
       "      <td>0</td>\n",
       "      <td>0</td>\n",
       "      <td>8</td>\n",
       "      <td>0</td>\n",
       "      <td>40.0357</td>\n",
       "      <td>-75.2171</td>\n",
       "      <td>None</td>\n",
       "      <td>None</td>\n",
       "      <td>POINT (-75.21710 40.03570)</td>\n",
       "    </tr>\n",
       "    <tr>\n",
       "      <th>4</th>\n",
       "      <td>None</td>\n",
       "      <td>9786</td>\n",
       "      <td>128975</td>\n",
       "      <td>2016087187</td>\n",
       "      <td>6</td>\n",
       "      <td>67</td>\n",
       "      <td>67301</td>\n",
       "      <td>2016</td>\n",
       "      <td>8</td>\n",
       "      <td>6</td>\n",
       "      <td>...</td>\n",
       "      <td>1</td>\n",
       "      <td>0</td>\n",
       "      <td>0</td>\n",
       "      <td>4</td>\n",
       "      <td>0</td>\n",
       "      <td>39.9511</td>\n",
       "      <td>-75.1721</td>\n",
       "      <td>None</td>\n",
       "      <td>None</td>\n",
       "      <td>POINT (-75.17210 39.95110)</td>\n",
       "    </tr>\n",
       "  </tbody>\n",
       "</table>\n",
       "<p>5 rows × 91 columns</p>\n",
       "</div>"
      ],
      "text/plain": [
       "  county_nam  objectid_1  objectid         crn  district  county  municipali  \\\n",
       "0       None        9498    128198  2016019772         6      67       67301   \n",
       "1       None        9570    128432  2016013724         6      67       67301   \n",
       "2       None        9642    128688  2016038282         6      67       67301   \n",
       "3       None        9714    128842  2016052220         6      67       67301   \n",
       "4       None        9786    128975  2016087187         6      67       67301   \n",
       "\n",
       "   crash_year  crash_mont  day_of_wee  ...  ped_count  ped_death_  ped_maj_in  \\\n",
       "0        2016           2           2  ...          1           0           0   \n",
       "1        2016           1           3  ...          0           0           0   \n",
       "2        2016           3           5  ...          0           0           0   \n",
       "3        2016           2           5  ...          0           0           0   \n",
       "4        2016           8           6  ...          1           0           0   \n",
       "\n",
       "   max_severi  comm_veh_c  dec_lat  dec_long rdwy_surf_ wz_law_off  \\\n",
       "0           3           0  40.0628  -75.0577       None       None   \n",
       "1           3           0  40.0822  -74.9669       None       None   \n",
       "2           0           1  39.9751  -75.1946       None       None   \n",
       "3           8           0  40.0357  -75.2171       None       None   \n",
       "4           4           0  39.9511  -75.1721       None       None   \n",
       "\n",
       "                     geometry  \n",
       "0  POINT (-75.05770 40.06280)  \n",
       "1  POINT (-74.96690 40.08220)  \n",
       "2  POINT (-75.19460 39.97510)  \n",
       "3  POINT (-75.21710 40.03570)  \n",
       "4  POINT (-75.17210 39.95110)  \n",
       "\n",
       "[5 rows x 91 columns]"
      ]
     },
     "execution_count": 7,
     "metadata": {},
     "output_type": "execute_result"
    }
   ],
   "source": [
    "accident.head()"
   ]
  },
  {
   "cell_type": "code",
   "execution_count": 8,
   "id": "d1c8f955",
   "metadata": {
    "collapsed": true
   },
   "outputs": [
    {
     "name": "stdout",
     "output_type": "stream",
     "text": [
      "The year crash is crash_year\n",
      "2011     9941\n",
      "2012    11281\n",
      "2013    11072\n",
      "2014    10565\n",
      "2015    11453\n",
      "2016    12137\n",
      "2017    11013\n",
      "dtype: int64\n",
      "The month crash is crash_mont\n",
      "1     5695\n",
      "2     5444\n",
      "3     6401\n",
      "4     6763\n",
      "5     7218\n",
      "6     6829\n",
      "7     6109\n",
      "8     6645\n",
      "9     6526\n",
      "10    6931\n",
      "11    6510\n",
      "12    6391\n",
      "dtype: int64\n"
     ]
    }
   ],
   "source": [
    "year_crash = accident.groupby('crash_year').size()\n",
    "month_crash = accident.groupby('crash_mont').size()\n",
    "print('The year crash is', year_crash)\n",
    "print('The month crash is', month_crash)"
   ]
  },
  {
   "cell_type": "code",
   "execution_count": 9,
   "id": "8129f8e2",
   "metadata": {
    "collapsed": true
   },
   "outputs": [
    {
     "data": {
      "image/png": "[encoded data removed]",
      "text/plain": [
       "<Figure size 640x480 with 1 Axes>"
      ]
     },
     "metadata": {},
     "output_type": "display_data"
    }
   ],
   "source": [
    "\n",
    "from matplotlib import pyplot as plt\n",
    "\n",
    "# r mean read, . represent dote, - is to connect the point\n",
    "plt.plot(year_crash, 'r.-', markersize=15)\n",
    "plt.show()"
   ]
  },
  {
   "cell_type": "code",
   "execution_count": 10,
   "id": "f6098ae5",
   "metadata": {},
   "outputs": [
    {
     "data": {
      "text/plain": [
       "dtype('int64')"
      ]
     },
     "execution_count": 10,
     "metadata": {},
     "output_type": "execute_result"
    }
   ],
   "source": [
    "accident['crash_year'].dtypes"
   ]
  },
  {
   "cell_type": "code",
   "execution_count": 11,
   "id": "fc3c9bd8",
   "metadata": {},
   "outputs": [
    {
     "data": {
      "text/plain": [
       "(77462, 91)"
      ]
     },
     "execution_count": 11,
     "metadata": {},
     "output_type": "execute_result"
    }
   ],
   "source": [
    "accident.shape"
   ]
  },
  {
   "cell_type": "code",
   "execution_count": 15,
   "id": "be46d3d9",
   "metadata": {},
   "outputs": [
    {
     "data": {
      "text/plain": [
       "Text(0.5, 1.0, 'Traffic accident in 2015')"
      ]
     },
     "execution_count": 15,
     "metadata": {},
     "output_type": "execute_result"
    }
   ],
   "source": [
    "accident_2015 = accident.loc[accident['crash_year'] == 2015] #locate the traffic accident in 2015\n",
    "\n",
    "# prepare the axis and coordinate\n",
    "fig, ax = plt.subplots(1, 1, figsize=(8, 6))\n",
    "\n",
    "# fig = plt.plot()\n",
    "# plot the geopandas dataframe, we read from shapefile\n",
    "accident_2015.plot(marker='*', ax=ax, color='blue', markersize=2)\n",
    "ax.set_title('Traffic accident in 2015', fontsize='16', fontname='Times New Roman')"
   ]
  },
  {
   "cell_type": "code",
   "execution_count": 16,
   "id": "fd2001aa",
   "metadata": {},
   "outputs": [
    {
     "data": {
      "text/plain": [
       "Text(0.5, 1.0, 'Traffic accident in 2015')"
      ]
     },
     "execution_count": 16,
     "metadata": {},
     "output_type": "execute_result"
    }
   ],
   "source": [
    "# fig = plt.plot()\n",
    "# plot the geopandas dataframe, we read from shapefile\n",
    "accident_2015.plot(marker='*', ax=ax, color='blue', markersize=2)\n",
    "ax.set_title('Traffic accident in 2015', fontsize='16', fontname='Times New Roman')"
   ]
  },
  {
   "cell_type": "code",
   "execution_count": null,
   "id": "b992a898",
   "metadata": {},
   "outputs": [],
   "source": []
  },
  {
   "cell_type": "code",
   "execution_count": null,
   "id": "aad2fa5a",
   "metadata": {},
   "outputs": [],
   "source": []
  },
  {
   "cell_type": "code",
   "execution_count": null,
   "id": "812d7c82",
   "metadata": {},
   "outputs": [],
   "source": []
  },
  {
   "cell_type": "code",
   "execution_count": null,
   "id": "497ab358",
   "metadata": {},
   "outputs": [],
   "source": []
  }
 ],
 "metadata": {
  "kernelspec": {
   "display_name": "Python 3",
   "language": "python",
   "name": "python3"
  },
  "language_info": {
   "codemirror_mode": {
    "name": "ipython",
    "version": 3
   },
   "file_extension": ".py",
   "mimetype": "text/x-python",
   "name": "python",
   "nbconvert_exporter": "python",
   "pygments_lexer": "ipython3",
   "version": "3.8.11"
  }
 },
 "nbformat": 4,
 "nbformat_minor": 5
}
